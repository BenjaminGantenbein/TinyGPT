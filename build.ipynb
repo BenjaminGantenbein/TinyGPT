{
 "cells": [
  {
   "cell_type": "code",
   "execution_count": 20,
   "metadata": {},
   "outputs": [],
   "source": [
    "# Get Tiny Shakespeare from Karpythys repo\n",
    "#!wget https://raw.githubusercontent.com/karpathy/char-rnn/master/data/tinyshakespeare/input.txt\n"
   ]
  },
  {
   "cell_type": "code",
   "execution_count": 21,
   "metadata": {},
   "outputs": [],
   "source": [
    "\n",
    "with open('input.txt', 'r', encoding='utf-8') as f:\n",
    "    corpus = f.read()"
   ]
  },
  {
   "cell_type": "code",
   "execution_count": 22,
   "metadata": {},
   "outputs": [
    {
     "name": "stdout",
     "output_type": "stream",
     "text": [
      "1115394\n"
     ]
    }
   ],
   "source": [
    "print(len(corpus))"
   ]
  },
  {
   "cell_type": "code",
   "execution_count": 23,
   "metadata": {},
   "outputs": [
    {
     "name": "stdout",
     "output_type": "stream",
     "text": [
      "First Citizen:\n",
      "Before we proceed any further, hear me speak.\n",
      "\n",
      "All:\n",
      "Speak, speak.\n",
      "\n",
      "First Citizen:\n",
      "You\n"
     ]
    }
   ],
   "source": [
    "print(corpus[:100])"
   ]
  },
  {
   "cell_type": "code",
   "execution_count": 24,
   "metadata": {},
   "outputs": [
    {
     "name": "stdout",
     "output_type": "stream",
     "text": [
      "\n",
      " !$&',-.3:;?ABCDEFGHIJKLMNOPQRSTUVWXYZabcdefghijklmnopqrstuvwxyz\n",
      "65\n"
     ]
    }
   ],
   "source": [
    "chars = sorted(list(set(corpus)))\n",
    "vocab_size = len(chars)\n",
    "print(''.join(chars))\n",
    "print(vobac_size)"
   ]
  },
  {
   "cell_type": "code",
   "execution_count": 25,
   "metadata": {},
   "outputs": [],
   "source": [
    "char_to_idx = { char:idx for idx, char in enumerate(chars)}\n",
    "idx_to_char = { idx:char for idx, char in enumerate(chars)}\n",
    "encode = lambda chars: [char_to_idx[char] for char in chars]\n",
    "decode = lambda idxs: ''.join([idx_to_char[idx] for idx in idxs])"
   ]
  },
  {
   "cell_type": "code",
   "execution_count": 26,
   "metadata": {},
   "outputs": [],
   "source": [
    "# Add tiktotken encode later here to compare"
   ]
  },
  {
   "cell_type": "code",
   "execution_count": 27,
   "metadata": {},
   "outputs": [
    {
     "name": "stdout",
     "output_type": "stream",
     "text": [
      "[20, 47, 6, 1, 51, 63, 1, 52, 39, 51, 43, 1, 47, 57, 1, 14, 43, 52, 48, 39, 51, 47, 52]\n",
      "Hi, my name is Benjamin\n"
     ]
    }
   ],
   "source": [
    "print(encode(\"Hi, my name is Benjamin\"))\n",
    "print(decode(encode(\"Hi, my name is Benjamin\")))"
   ]
  },
  {
   "cell_type": "code",
   "execution_count": 28,
   "metadata": {},
   "outputs": [
    {
     "name": "stdout",
     "output_type": "stream",
     "text": [
      "torch.Size([1115394]) torch.int64\n"
     ]
    }
   ],
   "source": [
    "import torch\n",
    "data = torch.tensor(encode(corpus), dtype=torch.long)\n",
    "print(data.shape, data.dtype)"
   ]
  },
  {
   "cell_type": "code",
   "execution_count": 29,
   "metadata": {},
   "outputs": [],
   "source": [
    "split = int(0.9*len(data))\n",
    "train_data = data[:split]\n",
    "val_data = data[split:]"
   ]
  },
  {
   "cell_type": "code",
   "execution_count": 30,
   "metadata": {},
   "outputs": [
    {
     "data": {
      "text/plain": [
       "tensor([18, 47, 56, 57, 58,  1, 15, 47, 58])"
      ]
     },
     "execution_count": 30,
     "metadata": {},
     "output_type": "execute_result"
    }
   ],
   "source": [
    "block_size = 8\n",
    "train_data[:block_size+1]"
   ]
  },
  {
   "cell_type": "code",
   "execution_count": 31,
   "metadata": {},
   "outputs": [
    {
     "name": "stdout",
     "output_type": "stream",
     "text": [
      "Following context tensor([18]) predicts the target : 47\n",
      "Following context tensor([18, 47]) predicts the target : 56\n",
      "Following context tensor([18, 47, 56]) predicts the target : 57\n",
      "Following context tensor([18, 47, 56, 57]) predicts the target : 58\n",
      "Following context tensor([18, 47, 56, 57, 58]) predicts the target : 1\n",
      "Following context tensor([18, 47, 56, 57, 58,  1]) predicts the target : 15\n",
      "Following context tensor([18, 47, 56, 57, 58,  1, 15]) predicts the target : 47\n",
      "Following context tensor([18, 47, 56, 57, 58,  1, 15, 47]) predicts the target : 58\n"
     ]
    }
   ],
   "source": [
    "#Example of how the training will look\n",
    "\n",
    "x = train_data[:block_size]\n",
    "y = train_data[1:block_size+1]\n",
    "\n",
    "for i in range (block_size):\n",
    "    context = x[:i+1]\n",
    "    predict = y[i]\n",
    "    print(f\"Following context {context} predicts the target : {predict}\")"
   ]
  },
  {
   "cell_type": "code",
   "execution_count": 32,
   "metadata": {},
   "outputs": [],
   "source": [
    "torch.manual_seed(42)\n",
    "\n",
    "batch_size = 4\n",
    "block_size = 8\n",
    "\n",
    "def get_batch(split):\n",
    "    #Build batch for train or eval\n",
    "    data = train_data if split == 'train' else val_data\n",
    "    idx = torch.randint(len(data) - block_size, (batch_size,))\n",
    "    x = torch.stack([data[i:i+block_size] for i in idx])\n",
    "    y = torch.stack([data[i+1:i+block_size+1] for i in idx])\n",
    "    return x, y\n"
   ]
  },
  {
   "cell_type": "code",
   "execution_count": 33,
   "metadata": {},
   "outputs": [
    {
     "name": "stdout",
     "output_type": "stream",
     "text": [
      "inputs\n",
      "torch.Size([4, 8])\n",
      "tensor([[57,  1, 46, 47, 57,  1, 50, 53],\n",
      "        [ 1, 58, 46, 43, 56, 43,  1, 41],\n",
      "        [17, 26, 15, 17, 10,  0, 32, 53],\n",
      "        [57, 58,  6,  1, 61, 47, 58, 46]])\n",
      "outputs\n",
      "torch.Size([4, 8])\n",
      "tensor([[ 1, 46, 47, 57,  1, 50, 53, 60],\n",
      "        [58, 46, 43, 56, 43,  1, 41, 39],\n",
      "        [26, 15, 17, 10,  0, 32, 53,  1],\n",
      "        [58,  6,  1, 61, 47, 58, 46,  0]])\n",
      "__________\n",
      "Following context tensor([57]) predicts the target : 1\n",
      "Following context tensor([57,  1]) predicts the target : 46\n",
      "Following context tensor([57,  1, 46]) predicts the target : 47\n",
      "Following context tensor([57,  1, 46, 47]) predicts the target : 57\n",
      "Following context tensor([57,  1, 46, 47, 57]) predicts the target : 1\n",
      "Following context tensor([57,  1, 46, 47, 57,  1]) predicts the target : 50\n",
      "Following context tensor([57,  1, 46, 47, 57,  1, 50]) predicts the target : 53\n",
      "Following context tensor([57,  1, 46, 47, 57,  1, 50, 53]) predicts the target : 60\n",
      "Following context tensor([1]) predicts the target : 58\n",
      "Following context tensor([ 1, 58]) predicts the target : 46\n",
      "Following context tensor([ 1, 58, 46]) predicts the target : 43\n",
      "Following context tensor([ 1, 58, 46, 43]) predicts the target : 56\n",
      "Following context tensor([ 1, 58, 46, 43, 56]) predicts the target : 43\n",
      "Following context tensor([ 1, 58, 46, 43, 56, 43]) predicts the target : 1\n",
      "Following context tensor([ 1, 58, 46, 43, 56, 43,  1]) predicts the target : 41\n",
      "Following context tensor([ 1, 58, 46, 43, 56, 43,  1, 41]) predicts the target : 39\n",
      "Following context tensor([17]) predicts the target : 26\n",
      "Following context tensor([17, 26]) predicts the target : 15\n",
      "Following context tensor([17, 26, 15]) predicts the target : 17\n",
      "Following context tensor([17, 26, 15, 17]) predicts the target : 10\n",
      "Following context tensor([17, 26, 15, 17, 10]) predicts the target : 0\n",
      "Following context tensor([17, 26, 15, 17, 10,  0]) predicts the target : 32\n",
      "Following context tensor([17, 26, 15, 17, 10,  0, 32]) predicts the target : 53\n",
      "Following context tensor([17, 26, 15, 17, 10,  0, 32, 53]) predicts the target : 1\n",
      "Following context tensor([57]) predicts the target : 58\n",
      "Following context tensor([57, 58]) predicts the target : 6\n",
      "Following context tensor([57, 58,  6]) predicts the target : 1\n",
      "Following context tensor([57, 58,  6,  1]) predicts the target : 61\n",
      "Following context tensor([57, 58,  6,  1, 61]) predicts the target : 47\n",
      "Following context tensor([57, 58,  6,  1, 61, 47]) predicts the target : 58\n",
      "Following context tensor([57, 58,  6,  1, 61, 47, 58]) predicts the target : 46\n",
      "Following context tensor([57, 58,  6,  1, 61, 47, 58, 46]) predicts the target : 0\n"
     ]
    }
   ],
   "source": [
    "#Example batch\n",
    "\n",
    "xb, yb = get_batch('train')\n",
    "print(\"inputs\")\n",
    "print(xb.shape)\n",
    "print(xb)\n",
    "print(\"outputs\")\n",
    "print(yb.shape)\n",
    "print(yb)\n",
    "\n",
    "print('__________')\n",
    "\n",
    "for b in range(batch_size): #num of batches\n",
    "    for t in range(block_size): #step in time\n",
    "        context = xb[b, :t+1]\n",
    "        target = yb[b, t]\n",
    "        print(f\"Following context {context} predicts the target : {target}\")\n"
   ]
  },
  {
   "cell_type": "code",
   "execution_count": 46,
   "metadata": {},
   "outputs": [
    {
     "name": "stdout",
     "output_type": "stream",
     "text": [
      "torch.Size([32, 65])\n",
      "tensor(4.8865, grad_fn=<NllLossBackward0>)\n",
      "\n",
      "uoiaF$z\n",
      "M?kI;h\n",
      "DbuMG,H3LYNmrDxKgTpvAKOF-jU.hc;fBMTGa-IS\n",
      "g3lEb&ZQ,l;:m;lpcNN\n",
      "KpVEYRIIM,'hCRbMAcWTkrnH\n"
     ]
    }
   ],
   "source": [
    "import torch\n",
    "import torch.nn as nn\n",
    "from torch.nn import functional as F\n",
    "torch.manual_seed(42)\n",
    "\n",
    "class BigramLanguageModel(nn.Module):\n",
    "\n",
    "    def __init__(self, vocab_size):\n",
    "        super().__init__()\n",
    "        self.token_embedding_table = nn.Embedding(vocab_size, vocab_size)\n",
    "    \n",
    "    def forward(self, idx, targets=None):\n",
    "        logits = self.token_embedding_table(idx) # (B, T, C)\n",
    "\n",
    "        if targets == None:\n",
    "            loss = None\n",
    "        else:\n",
    "            B, T, C = logits.shape\n",
    "            logits = logits.view(B*T, C)\n",
    "            targets = targets.view(B*T)\n",
    "            loss = F.cross_entropy(logits, targets)\n",
    "\n",
    "\n",
    "        return logits, loss\n",
    "    \n",
    "    def generate(self, idx, max_new_tokens):\n",
    "            #idx is (B, T) array of indices \n",
    "        for _ in range(max_new_tokens):\n",
    "           \n",
    "            logits, loss = self(idx)\n",
    "            # focus only on last element\n",
    "            logits = logits[:, -1, :] # becomes (B, C)\n",
    "            # apply softmax to get probabilities\n",
    "            probs = F.softmax(logits, dim=-1) # (B, C)\n",
    "            # get sample form the prob - distribution\n",
    "            idx_next = torch.multinomial(probs, num_samples=1) #(B, 1)\n",
    "            # apppend new sample index to existing sequence\n",
    "            idx = torch.cat((idx, idx_next), dim=1) # (B, T+1)\n",
    "        return idx\n",
    "    \n",
    "model = BigramLanguageModel(vocab_size)\n",
    "logits, loss = model(xb, yb)\n",
    "print(logits.shape)\n",
    "print(loss)\n",
    "\n",
    "print(decode(model.generate(idx = torch.zeros((1, 1), dtype=torch.long), max_new_tokens=100)[0].tolist()))\n"
   ]
  },
  {
   "cell_type": "code",
   "execution_count": 48,
   "metadata": {},
   "outputs": [],
   "source": [
    "\n",
    "optimizer = torch.optim.AdamW(model.parameters(), lr=1e-3)"
   ]
  },
  {
   "cell_type": "code",
   "execution_count": 68,
   "metadata": {},
   "outputs": [
    {
     "name": "stdout",
     "output_type": "stream",
     "text": [
      "2.430663585662842\n"
     ]
    }
   ],
   "source": [
    "batch_size = 32\n",
    "\n",
    "for steps in range(10000):\n",
    "\n",
    "    #sample a batch\n",
    "    xb, yb, = get_batch('train')\n",
    "\n",
    "    #evaluate the loss\n",
    "\n",
    "    logits, loss = model(xb, yb)\n",
    "    optimizer.zero_grad(set_to_none=True)\n",
    "    loss.backward()\n",
    "    optimizer.step()\n",
    "\n",
    "print(loss.item())"
   ]
  },
  {
   "cell_type": "code",
   "execution_count": 74,
   "metadata": {},
   "outputs": [
    {
     "name": "stdout",
     "output_type": "stream",
     "text": [
      "\n",
      "The ine.\n",
      "l t t tand ll meliseare totos ton! he my!\n",
      "\n",
      "Youtor-findanjuthy t d withar m ous n INTEd limire art, ads!\n",
      "OMESon thiepl cke me hon of sl qumak.\n",
      "O and mor llad st cerfulor meceatio,\n",
      "CLLes\n",
      "E ye:\n",
      "\n",
      "\n",
      "TEnd as hanus IIOn theavemarce\n",
      "\n",
      "E:\n",
      "I, prd gn,\n",
      "ABcepoak,\n",
      "LIXGURSO: n spen be tesis wod FLLIORD:\n",
      "\n",
      "Qq\n"
     ]
    }
   ],
   "source": [
    "print(decode(model.generate(idx = torch.zeros((1, 1), dtype=torch.long), max_new_tokens=300)[0].tolist()))\n"
   ]
  },
  {
   "cell_type": "code",
   "execution_count": null,
   "metadata": {},
   "outputs": [],
   "source": []
  }
 ],
 "metadata": {
  "kernelspec": {
   "display_name": "superenv",
   "language": "python",
   "name": "python3"
  },
  "language_info": {
   "codemirror_mode": {
    "name": "ipython",
    "version": 3
   },
   "file_extension": ".py",
   "mimetype": "text/x-python",
   "name": "python",
   "nbconvert_exporter": "python",
   "pygments_lexer": "ipython3",
   "version": "3.11.3"
  },
  "orig_nbformat": 4
 },
 "nbformat": 4,
 "nbformat_minor": 2
}
